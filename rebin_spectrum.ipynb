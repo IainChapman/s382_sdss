{
 "cells": [
  {
   "cell_type": "code",
   "execution_count": 1,
   "metadata": {},
   "outputs": [],
   "source": [
    "import pickle\n",
    "import numpy as np\n",
    "import math\n",
    "\n",
    "import matplotlib.pyplot as plt\n",
    "\n",
    "import spectres"
   ]
  },
  {
   "cell_type": "code",
   "execution_count": 2,
   "metadata": {},
   "outputs": [],
   "source": [
    "def read_linear_restframe_spectrum_file (specObjID):\n",
    "    \n",
    "    with open('./Spectra/' + specObjID + '.spec', 'rb') as filehandle:  \n",
    "        # read the data as binary data stream\n",
    "        [wavelength, flux, ivar, and_mask, or_mask] = pickle.load(filehandle)\n",
    "    return [wavelength, flux, ivar, and_mask, or_mask]"
   ]
  },
  {
   "cell_type": "code",
   "execution_count": 3,
   "metadata": {},
   "outputs": [],
   "source": [
    "def rebin_spectrum (specObjID, bin_width):\n",
    "    [wavelength, flux, ivar, and_mask, or_mask] = read_linear_restframe_spectrum_file (specObjID)\n",
    "    spectrum = np.asarray([wavelength, flux, ivar]).transpose()\n",
    "    # truncate range a bit so it fits as required by SpectRes\n",
    "    lambda_min = float(math.ceil(wavelength.min())) + (bin_width / 2.0)\n",
    "    lambda_max = float(math.floor(wavelength.max())) - (bin_width / 2.0)\n",
    "    regrid = np.arange(lambda_min, lambda_max, bin_width) + 2.\n",
    "    spec_resample, spec_errs_resample = spectres.spectres(regrid, spectrum[:,0], spectrum[:,1], spec_errs=spectrum[:,2])\n",
    "    return ([regrid, spec_resample, spec_errs_resample])"
   ]
  },
  {
   "cell_type": "code",
   "execution_count": null,
   "metadata": {},
   "outputs": [],
   "source": [
    "# targets 3130Å 100, 1750Å 222  5130Å 58.7"
   ]
  },
  {
   "cell_type": "code",
   "execution_count": 4,
   "metadata": {},
   "outputs": [],
   "source": [
    "# tolerance is the number of bin widths over which we'll average - must be even\n",
    "def normalize_spectrum (specObjID, bin_width, tolerance):\n",
    "    targets = [3130., 1750., 5130.]\n",
    "    scales = [100.,222.,58.7]\n",
    "    [x, y, errs]=rebin_spectrum (specObjID, bin_width)\n",
    "    valid_targets = list(filter(lambda z: z < (x.max() - tolerance*bin_width), targets))\n",
    "    valid_targets = list(filter(lambda z: z > (x.min() + tolerance*bin_width), valid_targets))\n",
    "    # use default target if valid\n",
    "    if 3130. in valid_targets:\n",
    "        target = 3130.\n",
    "        scale = 100.\n",
    "    else:\n",
    "    #only one will remain, so pick the scale associated with it\n",
    "        target = valid_targets[0]\n",
    "        scale = scales[targets.index(target)]\n",
    "    print (x.min())\n",
    "    print (x.max())\n",
    "    print (target)\n",
    "    print (scale)\n",
    "    n = int(tolerance/2)\n",
    "    print (n)\n",
    "    target_index = np.argwhere(x > target)[0][0]\n",
    "    print (target_index)\n",
    "    # need to add 1 because arange is weird\n",
    "    target_index_list = np.arange(target_index - n, target_index + n + 1 )\n",
    "    print (target_index_list)\n",
    "    y_sum = 0.\n",
    "    for z in target_index_list:\n",
    "        y_sum += y[z]\n",
    "    print (y_sum)\n",
    "    y_mean = y_sum / len(target_index_list)\n",
    "    print (y_mean)\n",
    "    y *= scale/y_mean\n",
    "    print (y[target_index + 1])\n",
    "    \n",
    "    #seems to be working - now need to return values\n",
    "    #should prob then write to a different directory"
   ]
  },
  {
   "cell_type": "code",
   "execution_count": 5,
   "metadata": {},
   "outputs": [
    {
     "name": "stdout",
     "output_type": "stream",
     "text": [
      "1475.0\n",
      "3495.0\n",
      "3130.0\n",
      "100.0\n",
      "1\n",
      "83\n",
      "[82 83 84]\n",
      "11.03109768931754\n",
      "3.677032563105847\n",
      "101.13791662086788\n"
     ]
    }
   ],
   "source": [
    "normalize_spectrum ('299551250096089088', 20.0, 2.0)"
   ]
  },
  {
   "cell_type": "code",
   "execution_count": 137,
   "metadata": {},
   "outputs": [
    {
     "name": "stdout",
     "output_type": "stream",
     "text": [
      "[82 83 84]\n"
     ]
    }
   ],
   "source": [
    "print  (np.arange(82, 85))"
   ]
  },
  {
   "cell_type": "code",
   "execution_count": 8,
   "metadata": {},
   "outputs": [],
   "source": [
    "[x,y,errors]=rebin_spectrum ('299490227200747520', 4.0)"
   ]
  },
  {
   "cell_type": "code",
   "execution_count": 9,
   "metadata": {},
   "outputs": [
    {
     "data": {
      "text/plain": [
       "<function matplotlib.pyplot.show(*args, **kw)>"
      ]
     },
     "execution_count": 9,
     "metadata": {},
     "output_type": "execute_result"
    },
    {
     "data": {
      "image/png": "[encoded data removed]",
      "text/plain": [
       "<Figure size 432x288 with 1 Axes>"
      ]
     },
     "metadata": {
      "needs_background": "light"
     },
     "output_type": "display_data"
    }
   ],
   "source": [
    "plt.plot(x,y)\n",
    "plt.show"
   ]
  },
  {
   "cell_type": "code",
   "execution_count": null,
   "metadata": {},
   "outputs": [],
   "source": []
  }
 ],
 "metadata": {
  "kernelspec": {
   "display_name": "Python 3",
   "language": "python",
   "name": "python3"
  },
  "language_info": {
   "codemirror_mode": {
    "name": "ipython",
    "version": 3
   },
   "file_extension": ".py",
   "mimetype": "text/x-python",
   "name": "python",
   "nbconvert_exporter": "python",
   "pygments_lexer": "ipython3",
   "version": "3.7.3"
  }
 },
 "nbformat": 4,
 "nbformat_minor": 2
}
